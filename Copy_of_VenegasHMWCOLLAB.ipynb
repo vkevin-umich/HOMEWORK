{
  "nbformat": 4,
  "nbformat_minor": 0,
  "metadata": {
    "colab": {
      "provenance": []
    },
    "kernelspec": {
      "name": "python3",
      "display_name": "Python 3"
    },
    "language_info": {
      "name": "python"
    }
  },
  "cells": [
    {
      "cell_type": "code",
      "source": [
        "from google.colab import drive\n",
        "drive.mount('/content/drive')"
      ],
      "metadata": {
        "colab": {
          "base_uri": "https://localhost:8080/"
        },
        "id": "oBt4aGRYAWro",
        "outputId": "ebff5efe-fb9c-47de-e7f3-a50bae680dfc"
      },
      "execution_count": null,
      "outputs": [
        {
          "output_type": "stream",
          "name": "stdout",
          "text": [
            "Drive already mounted at /content/drive; to attempt to forcibly remount, call drive.mount(\"/content/drive\", force_remount=True).\n"
          ]
        }
      ]
    },
    {
      "cell_type": "code",
      "source": [
        "import pandas as pd\n",
        "from google.colab import drive\n",
        "\n",
        "\n",
        "drive.mount('/content/drive')\n"
      ],
      "metadata": {
        "colab": {
          "base_uri": "https://localhost:8080/"
        },
        "id": "-yPTqdEbofwJ",
        "outputId": "38c8a558-39ac-474f-e515-ebdd54c5bf1a"
      },
      "execution_count": null,
      "outputs": [
        {
          "output_type": "stream",
          "name": "stdout",
          "text": [
            "Drive already mounted at /content/drive; to attempt to forcibly remount, call drive.mount(\"/content/drive\", force_remount=True).\n"
          ]
        }
      ]
    },
    {
      "cell_type": "code",
      "execution_count": null,
      "metadata": {
        "id": "dAGUcCdKF_1t"
      },
      "outputs": [],
      "source": [
        "\n",
        "file_path = '/content/drive/MyDrive/Copy of olympic_medals.csv'\n",
        "\n",
        "df = pd.read_csv(file_path)\n",
        "\n",
        "\n"
      ]
    },
    {
      "cell_type": "code",
      "source": [
        "num_rows, num_columns = df.shape\n",
        "print(f\"Number of rows: {num_rows}\")\n",
        "print(f\"Number of columns: {num_columns}\")\n"
      ],
      "metadata": {
        "colab": {
          "base_uri": "https://localhost:8080/"
        },
        "id": "vcUFzIwjonea",
        "outputId": "23231557-0a7d-47f7-8da9-b00a0c40dcd9"
      },
      "execution_count": null,
      "outputs": [
        {
          "output_type": "stream",
          "name": "stdout",
          "text": [
            "Number of rows: 2394\n",
            "Number of columns: 8\n"
          ]
        }
      ]
    },
    {
      "cell_type": "code",
      "source": [
        "data_types = df.dtypes\n",
        "print(data_types)\n"
      ],
      "metadata": {
        "colab": {
          "base_uri": "https://localhost:8080/"
        },
        "id": "5NmDl9Rkosi4",
        "outputId": "b096ecf6-92ed-4662-c5ab-1fe0fc0ed497"
      },
      "execution_count": null,
      "outputs": [
        {
          "output_type": "stream",
          "name": "stdout",
          "text": [
            "Gender         object\n",
            "Event          object\n",
            "Location       object\n",
            "Year            int64\n",
            "Medal          object\n",
            "Name           object\n",
            "Nationality    object\n",
            "Result         object\n",
            "dtype: object\n"
          ]
        }
      ]
    },
    {
      "cell_type": "code",
      "source": [
        "\n",
        "unique_cities = df['Location'].nunique()\n",
        "print(f\"Number of unique cities where matches were held: {unique_cities}\")\n",
        "\n",
        "\n"
      ],
      "metadata": {
        "colab": {
          "base_uri": "https://localhost:8080/"
        },
        "id": "64yW3iY2ox_C",
        "outputId": "9a49a262-2395-45f1-c5dc-2d1fea13be6f"
      },
      "execution_count": null,
      "outputs": [
        {
          "output_type": "stream",
          "name": "stdout",
          "text": [
            "Number of unique cities where matches were held: 23\n"
          ]
        }
      ]
    },
    {
      "cell_type": "code",
      "source": [
        "usa_medals = df[df['Medal'] == 'USA']\n",
        "total_usa_medals = usa_medals['Medal'].count()\n",
        "print(f\"Total number of medals won by the USA team: {total_usa_medals}\")\n"
      ],
      "metadata": {
        "colab": {
          "base_uri": "https://localhost:8080/"
        },
        "id": "9S0vs2t8pVsl",
        "outputId": "eab44dd9-dfc3-40bf-9bb2-09dabe9c01c4"
      },
      "execution_count": null,
      "outputs": [
        {
          "output_type": "stream",
          "name": "stdout",
          "text": [
            "Total number of medals won by the USA team: 0\n"
          ]
        }
      ]
    },
    {
      "cell_type": "code",
      "source": [
        "\n",
        "usa_medals = df[(df['Medal'].isin(['G', 'S', 'B'])) & (df['Nationality'] == 'USA')]\n",
        "\n",
        "total_usa_medals = usa_medals.shape[0]\n",
        "print(f\"Total number of medals won by the USA team: {total_usa_medals}\")\n",
        "\n",
        "\n",
        "\n"
      ],
      "metadata": {
        "colab": {
          "base_uri": "https://localhost:8080/"
        },
        "id": "9RKgJq37pYIT",
        "outputId": "b74a1fb4-8951-4645-d877-8200be8a0a1f"
      },
      "execution_count": null,
      "outputs": [
        {
          "output_type": "stream",
          "name": "stdout",
          "text": [
            "Total number of medals won by the USA team: 638\n"
          ]
        }
      ]
    },
    {
      "cell_type": "code",
      "source": [
        "medals_per_nationality = df.groupby('Nationality')['Medal'].count()\n",
        "print(medals_per_nationality)\n"
      ],
      "metadata": {
        "colab": {
          "base_uri": "https://localhost:8080/"
        },
        "id": "On0b0TsUwFCP",
        "outputId": "03e6e509-1654-475b-ae09-7c5069905f3a"
      },
      "execution_count": null,
      "outputs": [
        {
          "output_type": "stream",
          "name": "stdout",
          "text": [
            "Nationality\n",
            "ALG      9\n",
            "ARG      4\n",
            "AUS     57\n",
            "AUT      4\n",
            "BAH     12\n",
            "      ... \n",
            "URS    131\n",
            "USA    638\n",
            "VEN      2\n",
            "YUG      1\n",
            "ZAM      1\n",
            "Name: Medal, Length: 97, dtype: int64\n"
          ]
        }
      ]
    }
  ]
}